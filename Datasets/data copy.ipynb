{
 "cells": [
  {
   "cell_type": "code",
   "execution_count": 17,
   "metadata": {},
   "outputs": [
    {
     "name": "stderr",
     "output_type": "stream",
     "text": [
      "c:\\Users\\user\\Desktop\\Detection-of-CKD-Progression\\venv\\Lib\\site-packages\\tqdm\\auto.py:21: TqdmWarning: IProgress not found. Please update jupyter and ipywidgets. See https://ipywidgets.readthedocs.io/en/stable/user_install.html\n",
      "  from .autonotebook import tqdm as notebook_tqdm\n"
     ]
    },
    {
     "name": "stdout",
     "output_type": "stream",
     "text": [
      "Downloading from https://www.kaggle.com/api/v1/datasets/download/angad2002/chronic-kidney-disease-ckd-stages-dataset?dataset_version_number=1...\n"
     ]
    },
    {
     "name": "stderr",
     "output_type": "stream",
     "text": [
      "100%|██████████| 13.9k/13.9k [00:00<00:00, 13.0MB/s]"
     ]
    },
    {
     "name": "stdout",
     "output_type": "stream",
     "text": [
      "Extracting files...\n",
      "Path to dataset files: C:\\Users\\user\\.cache\\kagglehub\\datasets\\angad2002\\chronic-kidney-disease-ckd-stages-dataset\\versions\\1\n"
     ]
    },
    {
     "name": "stderr",
     "output_type": "stream",
     "text": [
      "\n"
     ]
    }
   ],
   "source": [
    "import kagglehub\n",
    "\n",
    "# Download latest version\n",
    "path = kagglehub.dataset_download(\"angad2002/chronic-kidney-disease-ckd-stages-dataset\")\n",
    "\n",
    "print(\"Path to dataset files:\", path)"
   ]
  },
  {
   "cell_type": "code",
   "execution_count": 18,
   "metadata": {},
   "outputs": [
    {
     "name": "stdout",
     "output_type": "stream",
     "text": [
      "Dataset has been moved to: C:\\Users\\user\\Desktop\\Detection-of-CKD-Progression\\Datasets\n"
     ]
    }
   ],
   "source": [
    "import shutil\n",
    "import os\n",
    "\n",
    "# Source path where the dataset is currently located\n",
    "source_path = r\"C:\\Users\\user\\.cache\\kagglehub\\datasets\\angad2002\\chronic-kidney-disease-ckd-stages-dataset\\versions\\1\"\n",
    "\n",
    "# Destination path where you want to save the dataset\n",
    "destination_path = r\"C:\\Users\\user\\Desktop\\Detection-of-CKD-Progression\\Datasets\"\n",
    "\n",
    "# Move the dataset directory to the desired location\n",
    "shutil.move(source_path, destination_path)\n",
    "\n",
    "print(f\"Dataset has been moved to: {destination_path}\")\n"
   ]
  }
 ],
 "metadata": {
  "kernelspec": {
   "display_name": "venv",
   "language": "python",
   "name": "python3"
  },
  "language_info": {
   "codemirror_mode": {
    "name": "ipython",
    "version": 3
   },
   "file_extension": ".py",
   "mimetype": "text/x-python",
   "name": "python",
   "nbconvert_exporter": "python",
   "pygments_lexer": "ipython3",
   "version": "3.12.4"
  }
 },
 "nbformat": 4,
 "nbformat_minor": 2
}
